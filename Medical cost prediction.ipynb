{
 "cells": [
  {
   "cell_type": "code",
   "execution_count": 1,
   "metadata": {},
   "outputs": [],
   "source": [
    "#importing python spark library\n",
    "from pyspark.sql import SparkSession"
   ]
  },
  {
   "cell_type": "code",
   "execution_count": 2,
   "metadata": {},
   "outputs": [],
   "source": [
    "#Creating a spark session\n",
    "spark= SparkSession.builder.appName('Project').getOrCreate()"
   ]
  },
  {
   "cell_type": "code",
   "execution_count": 44,
   "metadata": {},
   "outputs": [],
   "source": [
    "#importing all the tools which will be required in data prepretion and creating layers \n",
    "import numpy as np\n",
    "import seaborn as sns\n",
    "import matplotlib.pyplot as plt\n",
    "from pyspark.ml.feature import StringIndexer , OneHotEncoder\n",
    "from pyspark.ml.feature import MinMaxScaler , StandardScaler , VectorAssembler"
   ]
  },
  {
   "cell_type": "code",
   "execution_count": 5,
   "metadata": {},
   "outputs": [],
   "source": [
    "#importing the LinearRegression Model and crossValidator for model tunning.\n",
    "from pyspark.ml.regression import LinearRegression\n",
    "from pyspark.ml.tuning import ParamGridBuilder, CrossValidator"
   ]
  },
  {
   "cell_type": "code",
   "execution_count": 6,
   "metadata": {},
   "outputs": [],
   "source": [
    "#importing the RegressionEvaluator for evaluating our model.\n",
    "from pyspark.ml.evaluation import RegressionEvaluator"
   ]
  },
  {
   "cell_type": "code",
   "execution_count": 7,
   "metadata": {},
   "outputs": [],
   "source": [
    "#importing functions\n",
    "from pyspark.sql.functions import isnan,when,count,col"
   ]
  },
  {
   "cell_type": "code",
   "execution_count": 8,
   "metadata": {},
   "outputs": [],
   "source": [
    "from pyspark.ml import Pipeline"
   ]
  },
  {
   "cell_type": "code",
   "execution_count": 11,
   "metadata": {},
   "outputs": [],
   "source": [
    "#reading the file\n",
    "df=spark.read.csv('insurance.csv', header=True,inferSchema=True)"
   ]
  },
  {
   "cell_type": "code",
   "execution_count": 12,
   "metadata": {},
   "outputs": [
    {
     "name": "stdout",
     "output_type": "stream",
     "text": [
      "+---+------+------+--------+------+---------+-----------+\n",
      "|age|   sex|   bmi|children|smoker|   region|    charges|\n",
      "+---+------+------+--------+------+---------+-----------+\n",
      "| 19|female|  27.9|       0|   yes|southwest|  16884.924|\n",
      "| 18|  male| 33.77|       1|    no|southeast|  1725.5523|\n",
      "| 28|  male|  33.0|       3|    no|southeast|   4449.462|\n",
      "| 33|  male|22.705|       0|    no|northwest|21984.47061|\n",
      "| 32|  male| 28.88|       0|    no|northwest|  3866.8552|\n",
      "| 31|female| 25.74|       0|    no|southeast|  3756.6216|\n",
      "| 46|female| 33.44|       1|    no|southeast|  8240.5896|\n",
      "| 37|female| 27.74|       3|    no|northwest|  7281.5056|\n",
      "| 37|  male| 29.83|       2|    no|northeast|  6406.4107|\n",
      "| 60|female| 25.84|       0|    no|northwest|28923.13692|\n",
      "| 25|  male| 26.22|       0|    no|northeast|  2721.3208|\n",
      "| 62|female| 26.29|       0|   yes|southeast| 27808.7251|\n",
      "| 23|  male|  34.4|       0|    no|southwest|   1826.843|\n",
      "| 56|female| 39.82|       0|    no|southeast| 11090.7178|\n",
      "| 27|  male| 42.13|       0|   yes|southeast| 39611.7577|\n",
      "| 19|  male|  24.6|       1|    no|southwest|   1837.237|\n",
      "| 52|female| 30.78|       1|    no|northeast| 10797.3362|\n",
      "| 23|  male|23.845|       0|    no|northeast| 2395.17155|\n",
      "| 56|  male|  40.3|       0|    no|southwest|  10602.385|\n",
      "| 30|  male|  35.3|       0|   yes|southwest|  36837.467|\n",
      "+---+------+------+--------+------+---------+-----------+\n",
      "only showing top 20 rows\n",
      "\n"
     ]
    }
   ],
   "source": [
    "#showing the data\n",
    "df.show()"
   ]
  },
  {
   "cell_type": "code",
   "execution_count": 13,
   "metadata": {},
   "outputs": [
    {
     "data": {
      "text/plain": [
       "['age', 'sex', 'bmi', 'children', 'smoker', 'region', 'charges']"
      ]
     },
     "execution_count": 13,
     "metadata": {},
     "output_type": "execute_result"
    }
   ],
   "source": [
    "#all the Columns\n",
    "df.columns"
   ]
  },
  {
   "cell_type": "code",
   "execution_count": 14,
   "metadata": {},
   "outputs": [
    {
     "name": "stdout",
     "output_type": "stream",
     "text": [
      "root\n",
      " |-- age: integer (nullable = true)\n",
      " |-- sex: string (nullable = true)\n",
      " |-- bmi: double (nullable = true)\n",
      " |-- children: integer (nullable = true)\n",
      " |-- smoker: string (nullable = true)\n",
      " |-- region: string (nullable = true)\n",
      " |-- charges: double (nullable = true)\n",
      "\n"
     ]
    }
   ],
   "source": [
    "#data type in each columns \n",
    "df.printSchema()"
   ]
  },
  {
   "cell_type": "code",
   "execution_count": 15,
   "metadata": {},
   "outputs": [
    {
     "name": "stdout",
     "output_type": "stream",
     "text": [
      "+-----------+\n",
      "|    charges|\n",
      "+-----------+\n",
      "|  16884.924|\n",
      "|  1725.5523|\n",
      "|   4449.462|\n",
      "|21984.47061|\n",
      "|  3866.8552|\n",
      "+-----------+\n",
      "only showing top 5 rows\n",
      "\n"
     ]
    }
   ],
   "source": [
    "#understanding Charges column \n",
    "df.select(\"charges\").show(5)"
   ]
  },
  {
   "cell_type": "code",
   "execution_count": 16,
   "metadata": {},
   "outputs": [
    {
     "name": "stdout",
     "output_type": "stream",
     "text": [
      "+---------+\n",
      "|   region|\n",
      "+---------+\n",
      "|southwest|\n",
      "|southeast|\n",
      "|southeast|\n",
      "|northwest|\n",
      "|northwest|\n",
      "+---------+\n",
      "only showing top 5 rows\n",
      "\n"
     ]
    }
   ],
   "source": [
    "#understanding region column \n",
    "df.select(\"region\").show(5)"
   ]
  },
  {
   "cell_type": "code",
   "execution_count": 17,
   "metadata": {},
   "outputs": [
    {
     "name": "stdout",
     "output_type": "stream",
     "text": [
      "+------+\n",
      "|   bmi|\n",
      "+------+\n",
      "|  27.9|\n",
      "| 33.77|\n",
      "|  33.0|\n",
      "|22.705|\n",
      "| 28.88|\n",
      "+------+\n",
      "only showing top 5 rows\n",
      "\n"
     ]
    }
   ],
   "source": [
    "#understanding BMI column \n",
    "df.select(\"bmi\").show(5)"
   ]
  },
  {
   "cell_type": "code",
   "execution_count": 18,
   "metadata": {},
   "outputs": [
    {
     "data": {
      "text/plain": [
       "1338"
      ]
     },
     "execution_count": 18,
     "metadata": {},
     "output_type": "execute_result"
    }
   ],
   "source": [
    "#total count of rows\n",
    "df.count()"
   ]
  },
  {
   "cell_type": "code",
   "execution_count": 19,
   "metadata": {},
   "outputs": [
    {
     "name": "stdout",
     "output_type": "stream",
     "text": [
      "+-----------+-----+\n",
      "|    charges|count|\n",
      "+-----------+-----+\n",
      "|  9361.3268|    1|\n",
      "|   2494.022|    1|\n",
      "|   7441.501|    1|\n",
      "| 11353.2276|    1|\n",
      "|   7954.517|    1|\n",
      "|  1705.6245|    1|\n",
      "|  2523.1695|    1|\n",
      "| 2803.69785|    1|\n",
      "| 8017.06115|    1|\n",
      "| 12231.6136|    1|\n",
      "| 10560.4917|    1|\n",
      "|  1163.4627|    1|\n",
      "|45702.02235|    1|\n",
      "|  15170.069|    1|\n",
      "| 3279.86855|    1|\n",
      "| 1632.03625|    1|\n",
      "| 17748.5062|    1|\n",
      "|36910.60803|    1|\n",
      "| 12949.1554|    1|\n",
      "|   1743.214|    1|\n",
      "+-----------+-----+\n",
      "only showing top 20 rows\n",
      "\n"
     ]
    }
   ],
   "source": [
    "#checking charges Column if they have any unique values\n",
    "df.groupby('charges').count().show()"
   ]
  },
  {
   "cell_type": "code",
   "execution_count": 20,
   "metadata": {},
   "outputs": [
    {
     "data": {
      "text/plain": [
       "0"
      ]
     },
     "execution_count": 20,
     "metadata": {},
     "output_type": "execute_result"
    }
   ],
   "source": [
    "#checking null values in charges\n",
    "df.select('*').where(df.charges.isNull()).count()"
   ]
  },
  {
   "cell_type": "code",
   "execution_count": 21,
   "metadata": {},
   "outputs": [],
   "source": [
    "#checking null value in each calumns with the help of a loop\n",
    "def get_null_value_count(data):\n",
    "    data.select([count(when(isnan(c)|col(c).isNull(),c)).alias(c) for c in data.columns]).show()"
   ]
  },
  {
   "cell_type": "code",
   "execution_count": 22,
   "metadata": {},
   "outputs": [
    {
     "name": "stdout",
     "output_type": "stream",
     "text": [
      "+---+---+---+--------+------+------+-------+\n",
      "|age|sex|bmi|children|smoker|region|charges|\n",
      "+---+---+---+--------+------+------+-------+\n",
      "|  0|  0|  0|       0|     0|     0|      0|\n",
      "+---+---+---+--------+------+------+-------+\n",
      "\n"
     ]
    }
   ],
   "source": [
    "#NO null value in any culumns. \n",
    "get_null_value_count(df)"
   ]
  },
  {
   "cell_type": "markdown",
   "metadata": {},
   "source": [
    "### DATA VISUALIZATION"
   ]
  },
  {
   "cell_type": "code",
   "execution_count": 41,
   "metadata": {},
   "outputs": [
    {
     "name": "stdout",
     "output_type": "stream",
     "text": [
      "+------+-----+\n",
      "|smoker|count|\n",
      "+------+-----+\n",
      "|    no| 1064|\n",
      "|   yes|  274|\n",
      "+------+-----+\n",
      "\n"
     ]
    },
    {
     "data": {
      "text/plain": [
       "<seaborn.axisgrid.FacetGrid at 0x7f149f373c50>"
      ]
     },
     "execution_count": 41,
     "metadata": {},
     "output_type": "execute_result"
    },
    {
     "data": {
      "image/png": "[encoded data removed]",
      "text/plain": [
       "<Figure size 360x360 with 1 Axes>"
      ]
     },
     "metadata": {
      "needs_background": "light"
     },
     "output_type": "display_data"
    }
   ],
   "source": [
    "df.groupby('smoker').count().show()\n",
    "dx = df.toPandas()\n",
    "sns.catplot(x='smoker', kind='count', data=dx)"
   ]
  },
  {
   "cell_type": "code",
   "execution_count": 42,
   "metadata": {},
   "outputs": [
    {
     "name": "stdout",
     "output_type": "stream",
     "text": [
      "+--------+-----+\n",
      "|children|count|\n",
      "+--------+-----+\n",
      "|       1|  324|\n",
      "|       3|  157|\n",
      "|       5|   18|\n",
      "|       4|   25|\n",
      "|       2|  240|\n",
      "|       0|  574|\n",
      "+--------+-----+\n",
      "\n"
     ]
    },
    {
     "data": {
      "text/plain": [
       "<seaborn.axisgrid.FacetGrid at 0x7f149e7be8d0>"
      ]
     },
     "execution_count": 42,
     "metadata": {},
     "output_type": "execute_result"
    },
    {
     "data": {
      "image/png": "[encoded data removed]",
      "text/plain": [
       "<Figure size 360x360 with 1 Axes>"
      ]
     },
     "metadata": {
      "needs_background": "light"
     },
     "output_type": "display_data"
    }
   ],
   "source": [
    "df.groupby('children').count().show()\n",
    "sns.catplot(x='children', kind='count', data=dx)"
   ]
  },
  {
   "cell_type": "code",
   "execution_count": 46,
   "metadata": {},
   "outputs": [
    {
     "name": "stdout",
     "output_type": "stream",
     "text": [
      "BMI less than 25: 247\n",
      "BMI greater than 25: 1091\n"
     ]
    },
    {
     "data": {
      "image/png": "[encoded data removed]",
      "text/plain": [
       "<Figure size 432x288 with 1 Axes>"
      ]
     },
     "metadata": {
      "needs_background": "light"
     },
     "output_type": "display_data"
    }
   ],
   "source": [
    "lt=0\n",
    "mt=0\n",
    "for i in dx['bmi']:\n",
    "    if (i<=25):\n",
    "        lt+=1\n",
    "    else:\n",
    "        mt+=1\n",
    "print('BMI less than 25:', lt)\n",
    "print('BMI greater than 25:', mt)\n",
    "plt.hist(dx.bmi, bins=[0,20,50],edgecolor='red')\n",
    "plt.show()"
   ]
  },
  {
   "cell_type": "code",
   "execution_count": 47,
   "metadata": {},
   "outputs": [
    {
     "data": {
      "text/plain": [
       "Text(0.5, 1.0, 'Age Vs BMI')"
      ]
     },
     "execution_count": 47,
     "metadata": {},
     "output_type": "execute_result"
    },
    {
     "data": {
      "image/png": "[encoded data removed]",
      "text/plain": [
       "<Figure size 864x576 with 1 Axes>"
      ]
     },
     "metadata": {
      "needs_background": "light"
     },
     "output_type": "display_data"
    }
   ],
   "source": [
    "plt.figure(figsize=(12,8))\n",
    "sns.barplot(x='age',y='bmi', data=dx)\n",
    "plt.title('Age Vs BMI')"
   ]
  },
  {
   "cell_type": "code",
   "execution_count": 48,
   "metadata": {},
   "outputs": [
    {
     "data": {
      "text/plain": [
       "Text(0.5, 1.0, 'Age Vs Charges')"
      ]
     },
     "execution_count": 48,
     "metadata": {},
     "output_type": "execute_result"
    },
    {
     "data": {
      "image/png": "[encoded data removed]",
      "text/plain": [
       "<Figure size 864x576 with 1 Axes>"
      ]
     },
     "metadata": {
      "needs_background": "light"
     },
     "output_type": "display_data"
    }
   ],
   "source": [
    "plt.figure(figsize=(12,8))\n",
    "sns.barplot(x='age',y='charges', data=dx)\n",
    "plt.title('Age Vs Charges')"
   ]
  },
  {
   "cell_type": "code",
   "execution_count": 23,
   "metadata": {},
   "outputs": [
    {
     "name": "stdout",
     "output_type": "stream",
     "text": [
      "+---+------+------+--------+------+---------+-----------+-----------+--------------+--------------+\n",
      "|age|   sex|   bmi|children|smoker|   region|    charges|sex_numeric|smoker_numeric|region_numeric|\n",
      "+---+------+------+--------+------+---------+-----------+-----------+--------------+--------------+\n",
      "| 19|female|  27.9|       0|   yes|southwest|  16884.924|        1.0|           1.0|           2.0|\n",
      "| 18|  male| 33.77|       1|    no|southeast|  1725.5523|        0.0|           0.0|           0.0|\n",
      "| 28|  male|  33.0|       3|    no|southeast|   4449.462|        0.0|           0.0|           0.0|\n",
      "| 33|  male|22.705|       0|    no|northwest|21984.47061|        0.0|           0.0|           1.0|\n",
      "| 32|  male| 28.88|       0|    no|northwest|  3866.8552|        0.0|           0.0|           1.0|\n",
      "| 31|female| 25.74|       0|    no|southeast|  3756.6216|        1.0|           0.0|           0.0|\n",
      "| 46|female| 33.44|       1|    no|southeast|  8240.5896|        1.0|           0.0|           0.0|\n",
      "| 37|female| 27.74|       3|    no|northwest|  7281.5056|        1.0|           0.0|           1.0|\n",
      "| 37|  male| 29.83|       2|    no|northeast|  6406.4107|        0.0|           0.0|           3.0|\n",
      "| 60|female| 25.84|       0|    no|northwest|28923.13692|        1.0|           0.0|           1.0|\n",
      "| 25|  male| 26.22|       0|    no|northeast|  2721.3208|        0.0|           0.0|           3.0|\n",
      "| 62|female| 26.29|       0|   yes|southeast| 27808.7251|        1.0|           1.0|           0.0|\n",
      "| 23|  male|  34.4|       0|    no|southwest|   1826.843|        0.0|           0.0|           2.0|\n",
      "| 56|female| 39.82|       0|    no|southeast| 11090.7178|        1.0|           0.0|           0.0|\n",
      "| 27|  male| 42.13|       0|   yes|southeast| 39611.7577|        0.0|           1.0|           0.0|\n",
      "| 19|  male|  24.6|       1|    no|southwest|   1837.237|        0.0|           0.0|           2.0|\n",
      "| 52|female| 30.78|       1|    no|northeast| 10797.3362|        1.0|           0.0|           3.0|\n",
      "| 23|  male|23.845|       0|    no|northeast| 2395.17155|        0.0|           0.0|           3.0|\n",
      "| 56|  male|  40.3|       0|    no|southwest|  10602.385|        0.0|           0.0|           2.0|\n",
      "| 30|  male|  35.3|       0|   yes|southwest|  36837.467|        0.0|           1.0|           2.0|\n",
      "+---+------+------+--------+------+---------+-----------+-----------+--------------+--------------+\n",
      "only showing top 20 rows\n",
      "\n"
     ]
    }
   ],
   "source": [
    "#converting string columns to numeric with the help of string indexer\n",
    "indexer=StringIndexer(inputCols=[\"sex\",\"smoker\",\"region\"],outputCols=[\"sex_numeric\",\"smoker_numeric\",\"region_numeric\"])\n",
    "df_r=indexer.fit(df).transform(df)   \n",
    "df_r.show()"
   ]
  },
  {
   "cell_type": "code",
   "execution_count": 24,
   "metadata": {},
   "outputs": [],
   "source": [
    "#joining all the coulums other than target colmun.\n",
    "featureassembler=VectorAssembler(inputCols=['age','sex_numeric','bmi','children','smoker_numeric','region_numeric'],outputCol=\"Finalized data\")\n",
    "output=featureassembler.transform(df_r)"
   ]
  },
  {
   "cell_type": "code",
   "execution_count": 25,
   "metadata": {},
   "outputs": [
    {
     "name": "stdout",
     "output_type": "stream",
     "text": [
      "+--------------------+\n",
      "|      Finalized Data|\n",
      "+--------------------+\n",
      "|[19.0,1.0,27.9,0....|\n",
      "|[18.0,0.0,33.77,1...|\n",
      "|[28.0,0.0,33.0,3....|\n",
      "|[33.0,0.0,22.705,...|\n",
      "|[32.0,0.0,28.88,0...|\n",
      "|[31.0,1.0,25.74,0...|\n",
      "|[46.0,1.0,33.44,1...|\n",
      "|[37.0,1.0,27.74,3...|\n",
      "|[37.0,0.0,29.83,2...|\n",
      "|[60.0,1.0,25.84,0...|\n",
      "|[25.0,0.0,26.22,0...|\n",
      "|[62.0,1.0,26.29,0...|\n",
      "|[23.0,0.0,34.4,0....|\n",
      "|[56.0,1.0,39.82,0...|\n",
      "|[27.0,0.0,42.13,0...|\n",
      "|[19.0,0.0,24.6,1....|\n",
      "|[52.0,1.0,30.78,1...|\n",
      "|[23.0,0.0,23.845,...|\n",
      "|[56.0,0.0,40.3,0....|\n",
      "|[30.0,0.0,35.3,0....|\n",
      "+--------------------+\n",
      "only showing top 20 rows\n",
      "\n"
     ]
    }
   ],
   "source": [
    "#single column for all the independent features\n",
    "output.select('Finalized Data').show()"
   ]
  },
  {
   "cell_type": "code",
   "execution_count": 26,
   "metadata": {},
   "outputs": [],
   "source": [
    "#making a data set with two columns that are dependent and independent.\n",
    "finalized_data=output.select(\"Finalized Data\",\"charges\")"
   ]
  },
  {
   "cell_type": "code",
   "execution_count": 27,
   "metadata": {},
   "outputs": [
    {
     "name": "stdout",
     "output_type": "stream",
     "text": [
      "+--------------------+-----------+\n",
      "|      Finalized Data|    charges|\n",
      "+--------------------+-----------+\n",
      "|[19.0,1.0,27.9,0....|  16884.924|\n",
      "|[18.0,0.0,33.77,1...|  1725.5523|\n",
      "|[28.0,0.0,33.0,3....|   4449.462|\n",
      "|[33.0,0.0,22.705,...|21984.47061|\n",
      "|[32.0,0.0,28.88,0...|  3866.8552|\n",
      "|[31.0,1.0,25.74,0...|  3756.6216|\n",
      "|[46.0,1.0,33.44,1...|  8240.5896|\n",
      "|[37.0,1.0,27.74,3...|  7281.5056|\n",
      "|[37.0,0.0,29.83,2...|  6406.4107|\n",
      "|[60.0,1.0,25.84,0...|28923.13692|\n",
      "|[25.0,0.0,26.22,0...|  2721.3208|\n",
      "|[62.0,1.0,26.29,0...| 27808.7251|\n",
      "|[23.0,0.0,34.4,0....|   1826.843|\n",
      "|[56.0,1.0,39.82,0...| 11090.7178|\n",
      "|[27.0,0.0,42.13,0...| 39611.7577|\n",
      "|[19.0,0.0,24.6,1....|   1837.237|\n",
      "|[52.0,1.0,30.78,1...| 10797.3362|\n",
      "|[23.0,0.0,23.845,...| 2395.17155|\n",
      "|[56.0,0.0,40.3,0....|  10602.385|\n",
      "|[30.0,0.0,35.3,0....|  36837.467|\n",
      "+--------------------+-----------+\n",
      "only showing top 20 rows\n",
      "\n"
     ]
    }
   ],
   "source": [
    "#showing final data. \n",
    "finalized_data.show()"
   ]
  },
  {
   "cell_type": "code",
   "execution_count": 28,
   "metadata": {},
   "outputs": [],
   "source": [
    "#splitting data set into test and train (20-80 )\n",
    "train_data,test_data=finalized_data.randomSplit([0.8,0.2])"
   ]
  },
  {
   "cell_type": "code",
   "execution_count": 29,
   "metadata": {},
   "outputs": [],
   "source": [
    "#defining linearRegression columns. \n",
    "regressor=LinearRegression(featuresCol='Finalized Data', labelCol='charges')"
   ]
  },
  {
   "cell_type": "code",
   "execution_count": 30,
   "metadata": {},
   "outputs": [],
   "source": [
    "#using it on our data set\n",
    "regressor=regressor.fit(train_data)"
   ]
  },
  {
   "cell_type": "code",
   "execution_count": 31,
   "metadata": {},
   "outputs": [
    {
     "data": {
      "text/plain": [
       "DenseVector([253.6985, -282.9147, 320.3088, 461.8545, 23819.3336, 153.4301])"
      ]
     },
     "execution_count": 31,
     "metadata": {},
     "output_type": "execute_result"
    }
   ],
   "source": [
    "#finging the coefficients\n",
    "regressor.coefficients"
   ]
  },
  {
   "cell_type": "code",
   "execution_count": 32,
   "metadata": {},
   "outputs": [
    {
     "data": {
      "text/plain": [
       "-12052.402932058912"
      ]
     },
     "execution_count": 32,
     "metadata": {},
     "output_type": "execute_result"
    }
   ],
   "source": [
    "#finding the intercept\n",
    "regressor.intercept"
   ]
  },
  {
   "cell_type": "code",
   "execution_count": 36,
   "metadata": {},
   "outputs": [],
   "source": [
    "#predictions \n",
    "predicted_results=regressor.evaluate(test_data)"
   ]
  },
  {
   "cell_type": "code",
   "execution_count": 37,
   "metadata": {},
   "outputs": [
    {
     "name": "stdout",
     "output_type": "stream",
     "text": [
      "+--------------------+-----------+-------------------+\n",
      "|      Finalized Data|    charges|         prediction|\n",
      "+--------------------+-----------+-------------------+\n",
      "|(6,[0,2],[18.0,23...|  1121.8739| -51.46308881443838|\n",
      "|(6,[0,2],[27.0,23...|   2483.736| 2196.5897141732403|\n",
      "|(6,[0,2],[41.0,40...|  5709.1644|  11244.86744341521|\n",
      "|(6,[0,2],[48.0,29...|   7789.635|  9638.296649421993|\n",
      "|(6,[0,2],[49.0,35...|  8124.4084| 11865.097138132098|\n",
      "|(6,[0,2],[49.0,36...|  8125.7845| 12182.202810129389|\n",
      "|(6,[0,2],[53.0,31...|27346.04207| 11435.298750830209|\n",
      "|(6,[0,2],[55.0,38...| 10226.2842| 14162.435514042982|\n",
      "|[18.0,0.0,30.03,1...|  1720.3537| 2594.8971580337457|\n",
      "|[18.0,0.0,35.2,1....|    1727.54|  4250.893445130689|\n",
      "|[18.0,1.0,20.79,0...|  1607.5101|-1109.5249451346845|\n",
      "|[18.0,1.0,25.08,0...|  2196.4732|  724.8898871151305|\n",
      "|[18.0,1.0,27.28,3...| 18223.4512| 26174.175994235215|\n",
      "|[18.0,1.0,28.215,...| 2200.83085| 1729.0578484398739|\n",
      "|[18.0,1.0,30.115,...| 2203.47185|  2337.644491666988|\n",
      "|[18.0,1.0,31.13,0...|  1621.8827|  2202.467629059198|\n",
      "|[18.0,1.0,36.85,0...| 36149.4835| 27853.967304275015|\n",
      "|[18.0,1.0,38.17,0...|  1631.6683|   4457.44129659546|\n",
      "|[18.0,1.0,38.28,0...|14133.03775|  4492.675260150712|\n",
      "|[19.0,0.0,20.425,...| 1625.43375| -536.3943701340377|\n",
      "+--------------------+-----------+-------------------+\n",
      "only showing top 20 rows\n",
      "\n"
     ]
    }
   ],
   "source": [
    "#predicition values\n",
    "predicted_results.predictions.show()"
   ]
  },
  {
   "cell_type": "code",
   "execution_count": 53,
   "metadata": {},
   "outputs": [
    {
     "name": "stdout",
     "output_type": "stream",
     "text": [
      "0.7440200979920114\n"
     ]
    }
   ],
   "source": [
    "#Finding R*2\n",
    "print(predicted_results.r2)"
   ]
  },
  {
   "cell_type": "code",
   "execution_count": 51,
   "metadata": {},
   "outputs": [
    {
     "name": "stdout",
     "output_type": "stream",
     "text": [
      "4246.511279393802\n"
     ]
    }
   ],
   "source": [
    "#Finding MAE\n",
    "print(pred_results.meanAbsoluteError)"
   ]
  },
  {
   "cell_type": "code",
   "execution_count": 52,
   "metadata": {},
   "outputs": [
    {
     "name": "stdout",
     "output_type": "stream",
     "text": [
      "37966318.557007596\n"
     ]
    }
   ],
   "source": [
    "#Finding MSE\n",
    "print(pred_results.meanSquaredError)"
   ]
  },
  {
   "cell_type": "code",
   "execution_count": null,
   "metadata": {},
   "outputs": [],
   "source": []
  }
 ],
 "metadata": {
  "kernelspec": {
   "display_name": "Python 3",
   "language": "python",
   "name": "python3"
  },
  "language_info": {
   "codemirror_mode": {
    "name": "ipython",
    "version": 3
   },
   "file_extension": ".py",
   "mimetype": "text/x-python",
   "name": "python",
   "nbconvert_exporter": "python",
   "pygments_lexer": "ipython3",
   "version": "3.7.3"
  }
 },
 "nbformat": 4,
 "nbformat_minor": 2
}
